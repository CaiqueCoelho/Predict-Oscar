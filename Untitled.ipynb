{
 "cells": [
  {
   "cell_type": "code",
   "execution_count": 1,
   "metadata": {},
   "outputs": [],
   "source": [
    "from __future__ import division\n",
    "import pandas as pd\n",
    "import numpy as np\n",
    "from collections import Counter\n",
    "from sklearn.model_selection import cross_validate\n",
    "from sklearn.model_selection import cross_val_score\n",
    "from sklearn.model_selection import GridSearchCV\n",
    "from sklearn import metrics\n",
    "from sklearn.utils import class_weight\n",
    "from sklearn.naive_bayes import MultinomialNB\n",
    "from sklearn.ensemble import AdaBoostClassifier\n",
    "from sklearn import svm\n",
    "from sklearn import neighbors\n",
    "from sklearn import neural_network\n",
    "from sklearn.linear_model import LogisticRegression\n",
    "from sklearn.ensemble import ExtraTreesClassifier\n",
    "from sklearn.ensemble import BaggingClassifier\n",
    "from sklearn.ensemble import GradientBoostingClassifier\n",
    "from sklearn.ensemble import RandomForestClassifier\n",
    "from sklearn.preprocessing import Normalizer\n",
    "from sklearn.preprocessing import RobustScaler\n",
    "from sklearn.preprocessing import PowerTransformer\n",
    "from sklearn.feature_selection import SelectKBest, chi2\n",
    "from sklearn.decomposition import PCA\n",
    "from sklearn import tree\n",
    "\n",
    "from sklearn.preprocessing import Imputer\n",
    "from sklearn.preprocessing import PowerTransformer\n",
    "from sklearn.preprocessing import RobustScaler"
   ]
  },
  {
   "cell_type": "code",
   "execution_count": 3,
   "metadata": {},
   "outputs": [],
   "source": [
    "def fit_and_predict(modelName, model, train_x, train_y):\n",
    "    k = 10\n",
    "    scores = cross_val_score(model, train_x, train_y, cv = k)\n",
    "    hit_hate = np.mean(scores)\n",
    "    \n",
    "    msg = \"Hit Rate from {0}: {1}\".format(modelName, hit_hate)\n",
    "    print(msg)\n",
    "    \n",
    "    return hit_hate\n",
    "\n",
    "def gettingDistributionOfDatas():\n",
    "    winners = int(list(Y_labels).count(1))\n",
    "    print('Quantity winners: ' +str(winners))\n",
    "    \n",
    "    losers = int(list(Y_labels).count(0))\n",
    "    print('Quantity losers: ' +str(losers))\n",
    "    \n",
    "    total = len(Y_labels)\n",
    "    print('Total Quantity: ' +str(total))\n",
    "    \n",
    "    distribution_winners = int(winners/total * 100)\n",
    "    distribution_losers = int(losers/total * 100)\n",
    "    print('\\nDistribution of winning data: ' +str(distribution_winners) + '%')\n",
    "    print('Distribution of losing data: ' +str(distribution_losers) + '% \\n')\n",
    "    \n",
    "    print('class_weight:')\n",
    "    class_weight_count = {1: distribution_winners, 0: distribution_losers}\n",
    "    print(class_weight_count)\n",
    "    \n",
    "    return class_weight_count"
   ]
  },
  {
   "cell_type": "code",
   "execution_count": 4,
   "metadata": {},
   "outputs": [],
   "source": [
    "#get dataset to train/test and to predict\n",
    "df = pd.read_csv('datasets/Base_Actress.csv')\n",
    "df_to_predict = pd.read_csv('datasets/Dados_Actress.csv')"
   ]
  },
  {
   "cell_type": "code",
   "execution_count": 5,
   "metadata": {},
   "outputs": [],
   "source": [
    "#lets drop column oscar from df_to_predict once this is the value we want to predict\n",
    "del df_to_predict['Oscar']"
   ]
  },
  {
   "cell_type": "code",
   "execution_count": 6,
   "metadata": {},
   "outputs": [
    {
     "data": {
      "text/plain": [
       "False"
      ]
     },
     "execution_count": 6,
     "metadata": {},
     "output_type": "execute_result"
    }
   ],
   "source": [
    "#check if exist any NaN values\n",
    "df.isnull().values.any()"
   ]
  },
  {
   "cell_type": "code",
   "execution_count": 7,
   "metadata": {},
   "outputs": [
    {
     "data": {
      "text/plain": [
       "False"
      ]
     },
     "execution_count": 7,
     "metadata": {},
     "output_type": "execute_result"
    }
   ],
   "source": [
    "#check if exist any NaN values\n",
    "df_to_predict.isnull().values.any()"
   ]
  },
  {
   "cell_type": "code",
   "execution_count": 8,
   "metadata": {},
   "outputs": [
    {
     "data": {
      "text/html": [
       "<div>\n",
       "<style scoped>\n",
       "    .dataframe tbody tr th:only-of-type {\n",
       "        vertical-align: middle;\n",
       "    }\n",
       "\n",
       "    .dataframe tbody tr th {\n",
       "        vertical-align: top;\n",
       "    }\n",
       "\n",
       "    .dataframe thead th {\n",
       "        text-align: right;\n",
       "    }\n",
       "</style>\n",
       "<table border=\"1\" class=\"dataframe\">\n",
       "  <thead>\n",
       "    <tr style=\"text-align: right;\">\n",
       "      <th></th>\n",
       "      <th>year</th>\n",
       "      <th>category</th>\n",
       "      <th>film</th>\n",
       "      <th>name</th>\n",
       "      <th>BAFTA</th>\n",
       "      <th>Golden Globe</th>\n",
       "      <th>Guild</th>\n",
       "      <th>running_time</th>\n",
       "      <th>box_office</th>\n",
       "      <th>imdb_score</th>\n",
       "      <th>...</th>\n",
       "      <th>rt_critic_score</th>\n",
       "      <th>produced_USA</th>\n",
       "      <th>R</th>\n",
       "      <th>PG</th>\n",
       "      <th>PG13</th>\n",
       "      <th>G</th>\n",
       "      <th>q1_release</th>\n",
       "      <th>q2_release</th>\n",
       "      <th>q3_release</th>\n",
       "      <th>q4_release</th>\n",
       "    </tr>\n",
       "  </thead>\n",
       "  <tbody>\n",
       "    <tr>\n",
       "      <th>0</th>\n",
       "      <td>2018</td>\n",
       "      <td>Actress</td>\n",
       "      <td>Roma</td>\n",
       "      <td>Yalitza Aparicio</td>\n",
       "      <td>0</td>\n",
       "      <td>0</td>\n",
       "      <td>0</td>\n",
       "      <td>135</td>\n",
       "      <td>116235682</td>\n",
       "      <td>8.0</td>\n",
       "      <td>...</td>\n",
       "      <td>96</td>\n",
       "      <td>0</td>\n",
       "      <td>1</td>\n",
       "      <td>0</td>\n",
       "      <td>0</td>\n",
       "      <td>0</td>\n",
       "      <td>0</td>\n",
       "      <td>0</td>\n",
       "      <td>0</td>\n",
       "      <td>1</td>\n",
       "    </tr>\n",
       "    <tr>\n",
       "      <th>1</th>\n",
       "      <td>2018</td>\n",
       "      <td>Actress</td>\n",
       "      <td>The Wife</td>\n",
       "      <td>Glenn Close</td>\n",
       "      <td>0</td>\n",
       "      <td>1</td>\n",
       "      <td>1</td>\n",
       "      <td>100</td>\n",
       "      <td>8700552</td>\n",
       "      <td>7.3</td>\n",
       "      <td>...</td>\n",
       "      <td>77</td>\n",
       "      <td>1</td>\n",
       "      <td>1</td>\n",
       "      <td>0</td>\n",
       "      <td>0</td>\n",
       "      <td>0</td>\n",
       "      <td>0</td>\n",
       "      <td>0</td>\n",
       "      <td>1</td>\n",
       "      <td>0</td>\n",
       "    </tr>\n",
       "    <tr>\n",
       "      <th>2</th>\n",
       "      <td>2018</td>\n",
       "      <td>Actress</td>\n",
       "      <td>The Favourite</td>\n",
       "      <td>Olivia Colman</td>\n",
       "      <td>1</td>\n",
       "      <td>1</td>\n",
       "      <td>0</td>\n",
       "      <td>119</td>\n",
       "      <td>26109876</td>\n",
       "      <td>7.9</td>\n",
       "      <td>...</td>\n",
       "      <td>90</td>\n",
       "      <td>1</td>\n",
       "      <td>1</td>\n",
       "      <td>0</td>\n",
       "      <td>0</td>\n",
       "      <td>0</td>\n",
       "      <td>0</td>\n",
       "      <td>0</td>\n",
       "      <td>0</td>\n",
       "      <td>1</td>\n",
       "    </tr>\n",
       "    <tr>\n",
       "      <th>3</th>\n",
       "      <td>2018</td>\n",
       "      <td>Actress</td>\n",
       "      <td>A Star Is Born</td>\n",
       "      <td>Lady Gaga</td>\n",
       "      <td>0</td>\n",
       "      <td>0</td>\n",
       "      <td>0</td>\n",
       "      <td>136</td>\n",
       "      <td>206361489</td>\n",
       "      <td>8.0</td>\n",
       "      <td>...</td>\n",
       "      <td>88</td>\n",
       "      <td>1</td>\n",
       "      <td>1</td>\n",
       "      <td>0</td>\n",
       "      <td>0</td>\n",
       "      <td>0</td>\n",
       "      <td>0</td>\n",
       "      <td>0</td>\n",
       "      <td>0</td>\n",
       "      <td>1</td>\n",
       "    </tr>\n",
       "    <tr>\n",
       "      <th>4</th>\n",
       "      <td>2018</td>\n",
       "      <td>Actress</td>\n",
       "      <td>Can You Ever Forgive Me?</td>\n",
       "      <td>Melissa McCarthy</td>\n",
       "      <td>0</td>\n",
       "      <td>0</td>\n",
       "      <td>0</td>\n",
       "      <td>106</td>\n",
       "      <td>8046201</td>\n",
       "      <td>7.4</td>\n",
       "      <td>...</td>\n",
       "      <td>87</td>\n",
       "      <td>1</td>\n",
       "      <td>1</td>\n",
       "      <td>0</td>\n",
       "      <td>0</td>\n",
       "      <td>0</td>\n",
       "      <td>0</td>\n",
       "      <td>0</td>\n",
       "      <td>0</td>\n",
       "      <td>1</td>\n",
       "    </tr>\n",
       "  </tbody>\n",
       "</table>\n",
       "<p>5 rows × 21 columns</p>\n",
       "</div>"
      ],
      "text/plain": [
       "   year category                       film              name  BAFTA  \\\n",
       "0  2018  Actress                       Roma  Yalitza Aparicio      0   \n",
       "1  2018  Actress                   The Wife       Glenn Close      0   \n",
       "2  2018  Actress              The Favourite     Olivia Colman      1   \n",
       "3  2018  Actress             A Star Is Born         Lady Gaga      0   \n",
       "4  2018  Actress  Can You Ever Forgive Me?   Melissa McCarthy      0   \n",
       "\n",
       "   Golden Globe  Guild  running_time  box_office  imdb_score  ...  \\\n",
       "0             0      0           135   116235682         8.0  ...   \n",
       "1             1      1           100     8700552         7.3  ...   \n",
       "2             1      0           119    26109876         7.9  ...   \n",
       "3             0      0           136   206361489         8.0  ...   \n",
       "4             0      0           106     8046201         7.4  ...   \n",
       "\n",
       "   rt_critic_score  produced_USA  R  PG  PG13  G  q1_release  q2_release  \\\n",
       "0               96             0  1   0     0  0           0           0   \n",
       "1               77             1  1   0     0  0           0           0   \n",
       "2               90             1  1   0     0  0           0           0   \n",
       "3               88             1  1   0     0  0           0           0   \n",
       "4               87             1  1   0     0  0           0           0   \n",
       "\n",
       "   q3_release  q4_release  \n",
       "0           0           1  \n",
       "1           1           0  \n",
       "2           0           1  \n",
       "3           0           1  \n",
       "4           0           1  \n",
       "\n",
       "[5 rows x 21 columns]"
      ]
     },
     "execution_count": 8,
     "metadata": {},
     "output_type": "execute_result"
    }
   ],
   "source": [
    "df_to_predict.head()"
   ]
  },
  {
   "cell_type": "code",
   "execution_count": 9,
   "metadata": {},
   "outputs": [],
   "source": [
    "# if exist any Nan values we need to handle with this\n",
    "#imputer = Imputer(missing_values = np.nan, strategy = 'mean', axis = 0)\n",
    "#df_to_predict_np_array =  np.array(df_to_predict) \n",
    "#imputer = imputer.fit(df_to_predict_np_array[:, 4:])\n",
    "# df_to_predict_np_array[:, 4:] = imputer.transform(X[:, :])"
   ]
  },
  {
   "cell_type": "code",
   "execution_count": 10,
   "metadata": {},
   "outputs": [],
   "source": [
    "#getting the importants attributes from original dataset to our dataset to train and test \n",
    "X_train_test = df[['BAFTA', 'Golden Globe', 'Guild', 'running_time', 'box_office', 'imdb_score', 'rt_audience_score', 'rt_critic_score', 'produced_USA', 'R', 'PG', 'PG13', 'G', 'q1_release', 'q2_release', 'q3_release', 'q4_release']]\n",
    "Y_labels = df['Oscar']\n",
    "\n",
    "#getting the importants attributes from original dataset to our dataset to predict\n",
    "X_to_predict = df_to_predict[['BAFTA', 'Golden Globe', 'Guild', 'running_time', 'box_office', 'imdb_score', 'rt_audience_score', 'rt_critic_score', 'produced_USA', 'R', 'PG', 'PG13', 'G', 'q1_release', 'q2_release', 'q3_release', 'q4_release']]"
   ]
  },
  {
   "cell_type": "code",
   "execution_count": 11,
   "metadata": {},
   "outputs": [
    {
     "data": {
      "text/plain": [
       "Index(['year', 'category', 'film', 'name', 'BAFTA', 'Golden Globe', 'Guild',\n",
       "       'Oscar', 'running_time', 'box_office', 'imdb_score',\n",
       "       'rt_audience_score', 'rt_critic_score', 'produced_USA', 'R', 'PG',\n",
       "       'PG13', 'G', 'q1_release', 'q2_release', 'q3_release', 'q4_release'],\n",
       "      dtype='object')"
      ]
     },
     "execution_count": 11,
     "metadata": {},
     "output_type": "execute_result"
    }
   ],
   "source": [
    "df.columns"
   ]
  },
  {
   "cell_type": "code",
   "execution_count": 12,
   "metadata": {},
   "outputs": [
    {
     "name": "stderr",
     "output_type": "stream",
     "text": [
      "/home/caique/.local/lib/python3.6/site-packages/ipykernel_launcher.py:7: SettingWithCopyWarning: \n",
      "A value is trying to be set on a copy of a slice from a DataFrame.\n",
      "Try using .loc[row_indexer,col_indexer] = value instead\n",
      "\n",
      "See the caveats in the documentation: http://pandas.pydata.org/pandas-docs/stable/user_guide/indexing.html#returning-a-view-versus-a-copy\n",
      "  import sys\n",
      "/home/caique/.local/lib/python3.6/site-packages/pandas/core/indexing.py:480: SettingWithCopyWarning: \n",
      "A value is trying to be set on a copy of a slice from a DataFrame.\n",
      "Try using .loc[row_indexer,col_indexer] = value instead\n",
      "\n",
      "See the caveats in the documentation: http://pandas.pydata.org/pandas-docs/stable/user_guide/indexing.html#returning-a-view-versus-a-copy\n",
      "  self.obj[item] = s\n"
     ]
    }
   ],
   "source": [
    "# to improve our analysis, we will do a pre-processing to normalize the data\n",
    "attributes_to_normalize = ['running_time', 'box_office', 'imdb_score', 'rt_audience_score', 'rt_critic_score']\n",
    "X_train_robust = X_train_test.copy()\n",
    "X_train_to_predict = X_to_predict\n",
    "\n",
    "X_train_robust[attributes_to_normalize] = RobustScaler().fit_transform(X_train_test[attributes_to_normalize])\n",
    "X_train_to_predict[attributes_to_normalize] = RobustScaler().fit_transform(X_train_to_predict[attributes_to_normalize])"
   ]
  },
  {
   "cell_type": "code",
   "execution_count": 13,
   "metadata": {},
   "outputs": [
    {
     "name": "stdout",
     "output_type": "stream",
     "text": [
      "Quantity winners: 38\n",
      "Quantity losers: 149\n",
      "Total Quantity: 187\n",
      "\n",
      "Distribution of winning data: 20%\n",
      "Distribution of losing data: 79% \n",
      "\n",
      "class_weight:\n",
      "{1: 20, 0: 79}\n"
     ]
    },
    {
     "data": {
      "text/plain": [
       "{1: 20, 0: 79}"
      ]
     },
     "execution_count": 13,
     "metadata": {},
     "output_type": "execute_result"
    }
   ],
   "source": [
    "gettingDistributionOfDatas()"
   ]
  },
  {
   "cell_type": "code",
   "execution_count": 14,
   "metadata": {},
   "outputs": [
    {
     "name": "stdout",
     "output_type": "stream",
     "text": [
      "{1: 0.62751677852349, 0: 2.460526315789474}\n"
     ]
    }
   ],
   "source": [
    "#Getting class_weight distribution\n",
    "class_weight = class_weight.compute_class_weight('balanced', np.unique(Y_labels), Y_labels)\n",
    "class_weight_dict = {1: class_weight[0], 0: class_weight[1]}\n",
    "print(class_weight_dict)"
   ]
  },
  {
   "cell_type": "code",
   "execution_count": 15,
   "metadata": {},
   "outputs": [],
   "source": [
    "# for simplicity lets transform ours dataframes in arrays\n",
    "X_train_test = X_train_robust.values\n",
    "X_to_predict = X_train_to_predict.values\n",
    "Y_labels = Y_labels.values"
   ]
  },
  {
   "cell_type": "code",
   "execution_count": 16,
   "metadata": {},
   "outputs": [],
   "source": [
    "#Percentage train\n",
    "percentage_train = 0.8\n",
    "size_train = percentage_train * len(Y_labels)\n",
    "train_data_X = X_train_test[:int(size_train)]\n",
    "train_data_Y = Y_labels[:int(size_train)]"
   ]
  },
  {
   "cell_type": "code",
   "execution_count": 17,
   "metadata": {},
   "outputs": [],
   "source": [
    "#Percentage test\n",
    "test_data_X = X_train_test[int(size_train):]\n",
    "test_data_Y = Y_labels[int(size_train):]"
   ]
  },
  {
   "cell_type": "code",
   "execution_count": 18,
   "metadata": {},
   "outputs": [],
   "source": [
    "#Counting quantity of predictions as won\n",
    "qt_candidates = len(X_to_predict)\n",
    "candidate = [0] * qt_candidates\n",
    "candidate0 = [0] * qt_candidates\n",
    "results = {}"
   ]
  },
  {
   "cell_type": "code",
   "execution_count": 19,
   "metadata": {},
   "outputs": [],
   "source": [
    "def predict_results(model, result):\n",
    "    results[result] = model\n",
    "    model.fit(train_data_X, train_data_Y)\n",
    "    resultOscar = model.predict(X_to_predict)\n",
    "    print('Oscar 2019: ' + str(resultOscar))\n",
    "    print('')\n",
    "    for i in range(qt_candidates):\n",
    "            if(resultOscar[i] == 1.0):\n",
    "                candidate0[i] = candidate0[i] + 1\n",
    "    if(result > 0.79):\n",
    "        for i in range(qt_candidates):\n",
    "            if(resultOscar[i] == 1.0):\n",
    "                candidate[i] = candidate[i] + 1"
   ]
  },
  {
   "cell_type": "code",
   "execution_count": 20,
   "metadata": {},
   "outputs": [
    {
     "name": "stdout",
     "output_type": "stream",
     "text": [
      "Hit Rate from AdaBoostClassifier Grided: 0.8269047619047619\n",
      "Oscar 2019: [0. 1. 0. 0. 0.]\n",
      "\n"
     ]
    }
   ],
   "source": [
    "#Predict Adaboost Grided\n",
    "model = AdaBoostClassifier(n_estimators= 45, learning_rate= 0.01)\n",
    "result = fit_and_predict(\"AdaBoostClassifier Grided\", model, train_data_X, train_data_Y)\n",
    "predict_results(model, result)"
   ]
  },
  {
   "cell_type": "code",
   "execution_count": 21,
   "metadata": {},
   "outputs": [
    {
     "name": "stdout",
     "output_type": "stream",
     "text": [
      "Hit Rate from AdaBoostClassifier: 0.8001190476190476\n",
      "Oscar 2019: [0. 0. 1. 0. 0.]\n",
      "\n"
     ]
    }
   ],
   "source": [
    "#Predict Adaboost\n",
    "model = AdaBoostClassifier()\n",
    "result = fit_and_predict(\"AdaBoostClassifier\", model, train_data_X, train_data_Y)\n",
    "predict_results(model, result)"
   ]
  },
  {
   "cell_type": "code",
   "execution_count": 22,
   "metadata": {},
   "outputs": [
    {
     "name": "stdout",
     "output_type": "stream",
     "text": [
      "Hit Rate from SVC Grided: 0.7921428571428571\n",
      "Oscar 2019: [0. 0. 0. 0. 0.]\n",
      "\n"
     ]
    }
   ],
   "source": [
    "# Predict SVC Grided\n",
    "model = svm.SVC(C= 0.03, max_iter= -1, decision_function_shape= 'ovo', tol= 0.001, class_weight= None, gamma='scale')\n",
    "result = fit_and_predict(\"SVC Grided\", model, train_data_X, train_data_Y)\n",
    "predict_results(model, result)"
   ]
  },
  {
   "cell_type": "code",
   "execution_count": 23,
   "metadata": {},
   "outputs": [
    {
     "name": "stdout",
     "output_type": "stream",
     "text": [
      "Hit Rate from SVC Grided with class_weight balanced: 0.37214285714285716\n",
      "Oscar 2019: [1. 1. 1. 1. 1.]\n",
      "\n"
     ]
    }
   ],
   "source": [
    "# Predict SVC Grided with class_weight balanced\n",
    "model = svm.SVC(C= 0.03, max_iter= -1, decision_function_shape= 'ovo', tol= 0.001, class_weight= 'balanced', gamma='auto')\n",
    "result = fit_and_predict(\"SVC Grided with class_weight balanced\", model, train_data_X, train_data_Y)\n",
    "predict_results(model, result)"
   ]
  },
  {
   "cell_type": "code",
   "execution_count": 24,
   "metadata": {},
   "outputs": [
    {
     "name": "stdout",
     "output_type": "stream",
     "text": [
      "Hit Rate from SVC Grided with class_weight count: 0.7921428571428571\n",
      "Oscar 2019: [0. 0. 0. 0. 0.]\n",
      "\n"
     ]
    }
   ],
   "source": [
    "# Predict SVC Grided with class_weight count\n",
    "model = svm.SVC(C= 0.03, max_iter= -1, decision_function_shape= 'ovo', tol= 0.001, class_weight= class_weight_dict, gamma='auto')\n",
    "result = fit_and_predict(\"SVC Grided with class_weight count\", model, train_data_X, train_data_Y)\n",
    "predict_results(model, result)"
   ]
  },
  {
   "cell_type": "code",
   "execution_count": 25,
   "metadata": {},
   "outputs": [
    {
     "name": "stdout",
     "output_type": "stream",
     "text": [
      "Hit Rate from SVC Grided: 0.8197619047619048\n",
      "Oscar 2019: [0. 0. 0. 0. 0.]\n",
      "\n"
     ]
    }
   ],
   "source": [
    "# Predict SVC\n",
    "model = svm.SVC(gamma='auto')\n",
    "result = fit_and_predict(\"SVC Grided\", model, train_data_X, train_data_Y)\n",
    "predict_results(model, result)"
   ]
  },
  {
   "cell_type": "code",
   "execution_count": 26,
   "metadata": {},
   "outputs": [
    {
     "name": "stdout",
     "output_type": "stream",
     "text": [
      "Hit Rate from KNN Grided: 0.8260119047619048\n",
      "Oscar 2019: [0. 0. 0. 0. 0.]\n",
      "\n"
     ]
    }
   ],
   "source": [
    "#Predict KNN Grided\n",
    "model = neighbors.KNeighborsClassifier(n_neighbors = 4, metric = 'euclidean', weights = 'uniform', algorithm = 'auto')\n",
    "result = fit_and_predict(\"KNN Grided\", model, train_data_X, train_data_Y)\n",
    "predict_results(model, result)"
   ]
  },
  {
   "cell_type": "code",
   "execution_count": 27,
   "metadata": {},
   "outputs": [
    {
     "name": "stdout",
     "output_type": "stream",
     "text": [
      "Hit Rate from KNN: 0.8322619047619046\n",
      "Oscar 2019: [0. 0. 0. 0. 0.]\n",
      "\n"
     ]
    }
   ],
   "source": [
    "#Predict KNN\n",
    "model = neighbors.KNeighborsClassifier()\n",
    "result = fit_and_predict(\"KNN\", model, train_data_X, train_data_Y)\n",
    "predict_results(model, result)"
   ]
  },
  {
   "cell_type": "code",
   "execution_count": 28,
   "metadata": {},
   "outputs": [
    {
     "name": "stderr",
     "output_type": "stream",
     "text": [
      "/usr/local/lib/python3.6/dist-packages/sklearn/neural_network/multilayer_perceptron.py:562: ConvergenceWarning: Stochastic Optimizer: Maximum iterations (200) reached and the optimization hasn't converged yet.\n",
      "  % self.max_iter, ConvergenceWarning)\n",
      "/usr/local/lib/python3.6/dist-packages/sklearn/neural_network/multilayer_perceptron.py:562: ConvergenceWarning: Stochastic Optimizer: Maximum iterations (200) reached and the optimization hasn't converged yet.\n",
      "  % self.max_iter, ConvergenceWarning)\n",
      "/usr/local/lib/python3.6/dist-packages/sklearn/neural_network/multilayer_perceptron.py:562: ConvergenceWarning: Stochastic Optimizer: Maximum iterations (200) reached and the optimization hasn't converged yet.\n",
      "  % self.max_iter, ConvergenceWarning)\n",
      "/usr/local/lib/python3.6/dist-packages/sklearn/neural_network/multilayer_perceptron.py:562: ConvergenceWarning: Stochastic Optimizer: Maximum iterations (200) reached and the optimization hasn't converged yet.\n",
      "  % self.max_iter, ConvergenceWarning)\n",
      "/usr/local/lib/python3.6/dist-packages/sklearn/neural_network/multilayer_perceptron.py:562: ConvergenceWarning: Stochastic Optimizer: Maximum iterations (200) reached and the optimization hasn't converged yet.\n",
      "  % self.max_iter, ConvergenceWarning)\n",
      "/usr/local/lib/python3.6/dist-packages/sklearn/neural_network/multilayer_perceptron.py:562: ConvergenceWarning: Stochastic Optimizer: Maximum iterations (200) reached and the optimization hasn't converged yet.\n",
      "  % self.max_iter, ConvergenceWarning)\n",
      "/usr/local/lib/python3.6/dist-packages/sklearn/neural_network/multilayer_perceptron.py:562: ConvergenceWarning: Stochastic Optimizer: Maximum iterations (200) reached and the optimization hasn't converged yet.\n",
      "  % self.max_iter, ConvergenceWarning)\n",
      "/usr/local/lib/python3.6/dist-packages/sklearn/neural_network/multilayer_perceptron.py:562: ConvergenceWarning: Stochastic Optimizer: Maximum iterations (200) reached and the optimization hasn't converged yet.\n",
      "  % self.max_iter, ConvergenceWarning)\n",
      "/usr/local/lib/python3.6/dist-packages/sklearn/neural_network/multilayer_perceptron.py:562: ConvergenceWarning: Stochastic Optimizer: Maximum iterations (200) reached and the optimization hasn't converged yet.\n",
      "  % self.max_iter, ConvergenceWarning)\n",
      "/usr/local/lib/python3.6/dist-packages/sklearn/neural_network/multilayer_perceptron.py:562: ConvergenceWarning: Stochastic Optimizer: Maximum iterations (200) reached and the optimization hasn't converged yet.\n",
      "  % self.max_iter, ConvergenceWarning)\n"
     ]
    },
    {
     "name": "stdout",
     "output_type": "stream",
     "text": [
      "Hit Rate from MLP: 0.8192261904761905\n",
      "Oscar 2019: [0. 0. 0. 0. 0.]\n",
      "\n"
     ]
    },
    {
     "name": "stderr",
     "output_type": "stream",
     "text": [
      "/usr/local/lib/python3.6/dist-packages/sklearn/neural_network/multilayer_perceptron.py:562: ConvergenceWarning: Stochastic Optimizer: Maximum iterations (200) reached and the optimization hasn't converged yet.\n",
      "  % self.max_iter, ConvergenceWarning)\n"
     ]
    }
   ],
   "source": [
    "#Predict MLP\n",
    "model = neural_network.MLPClassifier()\n",
    "result = fit_and_predict(\"MLP\", model, train_data_X, train_data_Y)\n",
    "predict_results(model, result)"
   ]
  },
  {
   "cell_type": "code",
   "execution_count": 29,
   "metadata": {},
   "outputs": [
    {
     "name": "stdout",
     "output_type": "stream",
     "text": [
      "Hit Rate from LogisticRegression Grided and class_weigh balanced: 0.7426190476190476\n",
      "Oscar 2019: [1. 0. 1. 1. 0.]\n",
      "\n"
     ]
    }
   ],
   "source": [
    "#Predict Logistic Regression and class_weigh balanced\n",
    "model = LogisticRegression(C= 0.01, fit_intercept= True, tol= 1e-05, max_iter= 100, class_weight= 'balanced', solver='lbfgs')\n",
    "result = fit_and_predict(\"LogisticRegression Grided and class_weigh balanced\", model, train_data_X, train_data_Y)\n",
    "predict_results(model, result)"
   ]
  },
  {
   "cell_type": "code",
   "execution_count": 30,
   "metadata": {},
   "outputs": [
    {
     "name": "stdout",
     "output_type": "stream",
     "text": [
      "Hit Rate from LogisticRegression Grided and class_weigh balanced: 0.7921428571428571\n",
      "Oscar 2019: [0. 0. 0. 0. 0.]\n",
      "\n"
     ]
    }
   ],
   "source": [
    "#Predict Logistic Regression and class_weigh count\n",
    "model = LogisticRegression(C= 0.01, fit_intercept= True, tol= 1e-05, max_iter= 100, class_weight= class_weight_dict, solver='lbfgs')\n",
    "result = fit_and_predict(\"LogisticRegression Grided and class_weigh balanced\", model, train_data_X, train_data_Y)\n",
    "predict_results(model, result)"
   ]
  },
  {
   "cell_type": "code",
   "execution_count": 31,
   "metadata": {},
   "outputs": [
    {
     "name": "stdout",
     "output_type": "stream",
     "text": [
      "Hit Rate from LogisticRegression: 0.825952380952381\n",
      "Oscar 2019: [0. 1. 0. 0. 0.]\n",
      "\n"
     ]
    }
   ],
   "source": [
    "#Predict Logistic Regression\n",
    "model = LogisticRegression(solver='lbfgs')\n",
    "result = fit_and_predict(\"LogisticRegression\", model, train_data_X, train_data_Y)\n",
    "predict_results(model, result)"
   ]
  },
  {
   "cell_type": "code",
   "execution_count": 32,
   "metadata": {},
   "outputs": [
    {
     "name": "stdout",
     "output_type": "stream",
     "text": [
      "Hit Rate from BaggingClassifier Grided: 0.8130952380952381\n",
      "Oscar 2019: [0. 0. 0. 0. 0.]\n",
      "\n"
     ]
    }
   ],
   "source": [
    "#Predict Bagging Grided\n",
    "model = BaggingClassifier(n_estimators= 42, max_samples= 0.087)\n",
    "result = fit_and_predict(\"BaggingClassifier Grided\", model, train_data_X, train_data_Y)\n",
    "predict_results(model, result)"
   ]
  },
  {
   "cell_type": "code",
   "execution_count": 33,
   "metadata": {},
   "outputs": [
    {
     "name": "stdout",
     "output_type": "stream",
     "text": [
      "Hit Rate from BaggingClassifier: 0.826845238095238\n",
      "Oscar 2019: [0. 0. 1. 0. 0.]\n",
      "\n"
     ]
    }
   ],
   "source": [
    "#Predict Bagging\n",
    "model = BaggingClassifier()\n",
    "result = fit_and_predict(\"BaggingClassifier\", model, train_data_X, train_data_Y)\n",
    "predict_results(model, result)"
   ]
  },
  {
   "cell_type": "code",
   "execution_count": 34,
   "metadata": {},
   "outputs": [
    {
     "name": "stdout",
     "output_type": "stream",
     "text": [
      "Hit Rate from GradientBoostingClassifier: 0.7997023809523809\n",
      "Oscar 2019: [0. 1. 1. 0. 0.]\n",
      "\n"
     ]
    }
   ],
   "source": [
    "#Predict Gradient Boosting\n",
    "model = GradientBoostingClassifier()\n",
    "result = fit_and_predict(\"GradientBoostingClassifier\", model, train_data_X, train_data_Y)\n",
    "predict_results(model, result)"
   ]
  },
  {
   "cell_type": "code",
   "execution_count": 35,
   "metadata": {},
   "outputs": [
    {
     "name": "stdout",
     "output_type": "stream",
     "text": [
      "Hit Rate from RandomForestClassifier Grided: 0.8202380952380952\n",
      "Oscar 2019: [0. 0. 0. 0. 0.]\n",
      "\n"
     ]
    }
   ],
   "source": [
    "#Predict Random Forest Grided\n",
    "model = RandomForestClassifier(n_estimators= 10, criterion= 'gini', max_depth= 3)\n",
    "result = fit_and_predict(\"RandomForestClassifier Grided\", model, train_data_X, train_data_Y)\n",
    "predict_results(model, result)"
   ]
  },
  {
   "cell_type": "code",
   "execution_count": 36,
   "metadata": {},
   "outputs": [
    {
     "name": "stdout",
     "output_type": "stream",
     "text": [
      "Hit Rate from RandomForestClassifier Grided and class_weight count: 0.7921428571428571\n",
      "Oscar 2019: [0. 0. 0. 0. 0.]\n",
      "\n"
     ]
    }
   ],
   "source": [
    "#Predict Random Forest Grided and class_weight count\n",
    "model = RandomForestClassifier(n_estimators= 10000, criterion= 'gini', max_depth= 3, class_weight= class_weight_dict)\n",
    "result = fit_and_predict(\"RandomForestClassifier Grided and class_weight count\", model, train_data_X, train_data_Y)\n",
    "predict_results(model, result)"
   ]
  },
  {
   "cell_type": "code",
   "execution_count": 37,
   "metadata": {},
   "outputs": [
    {
     "name": "stdout",
     "output_type": "stream",
     "text": [
      "Hit Rate from RandomForestClassifier Grided and class_weight balanced: 0.8126190476190477\n",
      "Oscar 2019: [0. 0. 1. 0. 0.]\n",
      "\n"
     ]
    }
   ],
   "source": [
    "#Predict Random Forest Grided and class_weight balanced\n",
    "model = RandomForestClassifier(n_estimators= 10000, criterion= 'gini', max_depth= 3, class_weight= 'balanced')\n",
    "result = fit_and_predict(\"RandomForestClassifier Grided and class_weight balanced\", model, train_data_X, train_data_Y)\n",
    "predict_results(model, result)"
   ]
  },
  {
   "cell_type": "code",
   "execution_count": 38,
   "metadata": {},
   "outputs": [
    {
     "name": "stdout",
     "output_type": "stream",
     "text": [
      "Hit Rate from RandomForestClassifier: 0.8335714285714285\n",
      "Oscar 2019: [0. 0. 0. 0. 0.]\n",
      "\n"
     ]
    }
   ],
   "source": [
    "#Predict Random Forest Grided\n",
    "model = RandomForestClassifier(n_estimators=100)\n",
    "result = fit_and_predict(\"RandomForestClassifier\", model, train_data_X, train_data_Y)\n",
    "predict_results(model, result)"
   ]
  },
  {
   "cell_type": "code",
   "execution_count": 39,
   "metadata": {},
   "outputs": [
    {
     "name": "stdout",
     "output_type": "stream",
     "text": [
      "Hit Rate from ExtraTreesClassifier Grided: 0.8202380952380952\n",
      "Oscar 2019: [0. 0. 0. 0. 0.]\n",
      "\n"
     ]
    }
   ],
   "source": [
    "#Predict Extra Tress Grided\n",
    "model = ExtraTreesClassifier(criterion = 'gini', max_depth = 3, n_estimators = 150)\n",
    "result = fit_and_predict(\"ExtraTreesClassifier Grided\", model, train_data_X, train_data_Y)\n",
    "predict_results(model, result)"
   ]
  },
  {
   "cell_type": "code",
   "execution_count": 40,
   "metadata": {},
   "outputs": [
    {
     "name": "stdout",
     "output_type": "stream",
     "text": [
      "Hit Rate from ExtraTreesClassifier Grided and class_weight balanced: 0.8392857142857142\n",
      "Oscar 2019: [0. 1. 1. 0. 0.]\n",
      "\n"
     ]
    }
   ],
   "source": [
    "#Predict Extra Tress Grided and class_weight balanced\n",
    "model = ExtraTreesClassifier(criterion = 'gini', max_depth = 3, n_estimators = 150, class_weight= 'balanced')\n",
    "result = fit_and_predict(\"ExtraTreesClassifier Grided and class_weight balanced\", model, train_data_X, train_data_Y)\n",
    "predict_results(model, result)"
   ]
  },
  {
   "cell_type": "code",
   "execution_count": 41,
   "metadata": {},
   "outputs": [
    {
     "name": "stdout",
     "output_type": "stream",
     "text": [
      "Hit Rate from ExtraTreesClassifier: 0.8464285714285713\n",
      "Oscar 2019: [0. 1. 1. 0. 0.]\n",
      "\n"
     ]
    }
   ],
   "source": [
    "#Predict Extra Tress\n",
    "model = ExtraTreesClassifier(n_estimators = 100)\n",
    "result = fit_and_predict(\"ExtraTreesClassifier\", model, train_data_X, train_data_Y)\n",
    "predict_results(model, result)"
   ]
  },
  {
   "cell_type": "code",
   "execution_count": 42,
   "metadata": {},
   "outputs": [
    {
     "name": "stdout",
     "output_type": "stream",
     "text": [
      "Hit Rate from DecisionTree Grided: 0.79125\n",
      "Oscar 2019: [0. 0. 0. 0. 0.]\n",
      "\n"
     ]
    }
   ],
   "source": [
    "#Predict DecisionTree Grided\n",
    "model = tree.DecisionTreeClassifier(criterion = 'entropy', max_depth = 3)\n",
    "result = fit_and_predict(\"DecisionTree Grided\", model, train_data_X, train_data_Y)\n",
    "predict_results(model, result)"
   ]
  },
  {
   "cell_type": "code",
   "execution_count": 43,
   "metadata": {},
   "outputs": [
    {
     "name": "stdout",
     "output_type": "stream",
     "text": [
      "Hit Rate from DecisionTree Grided and class_weight count: 0.7516666666666667\n",
      "Oscar 2019: [0. 0. 0. 0. 0.]\n",
      "\n"
     ]
    }
   ],
   "source": [
    "#Predict DecisionTree Grided and class_weight count\n",
    "model = tree.DecisionTreeClassifier(criterion = 'entropy', max_depth = 3, class_weight= class_weight_dict)\n",
    "result = fit_and_predict(\"DecisionTree Grided and class_weight count\", model, train_data_X, train_data_Y)\n",
    "predict_results(model, result)"
   ]
  },
  {
   "cell_type": "code",
   "execution_count": 44,
   "metadata": {},
   "outputs": [
    {
     "name": "stdout",
     "output_type": "stream",
     "text": [
      "Hit Rate from DecisionTree Grided and class_weight balanced: 0.7045833333333333\n",
      "Oscar 2019: [0. 1. 1. 0. 0.]\n",
      "\n"
     ]
    }
   ],
   "source": [
    "#Predict DecisionTree Grided and class_weight balanced\n",
    "model = tree.DecisionTreeClassifier(criterion = 'entropy', max_depth = 3, class_weight = 'balanced')\n",
    "result = fit_and_predict(\"DecisionTree Grided and class_weight balanced\", model, train_data_X, train_data_Y)\n",
    "predict_results(model, result)"
   ]
  },
  {
   "cell_type": "code",
   "execution_count": 45,
   "metadata": {},
   "outputs": [
    {
     "name": "stdout",
     "output_type": "stream",
     "text": [
      "Hit Rate from DecisionTree: 0.7382142857142858\n",
      "Oscar 2019: [0. 0. 1. 0. 0.]\n",
      "\n"
     ]
    }
   ],
   "source": [
    "#Predict DecisionTree\n",
    "model = tree.DecisionTreeClassifier()\n",
    "result = fit_and_predict(\"DecisionTree\", model, train_data_X, train_data_Y)\n",
    "predict_results(model, result)"
   ]
  },
  {
   "cell_type": "code",
   "execution_count": 46,
   "metadata": {},
   "outputs": [
    {
     "name": "stdout",
     "output_type": "stream",
     "text": [
      "Hit rate based on validation data: 81.578947\n"
     ]
    }
   ],
   "source": [
    "#The effectiveness of the algorithm that kicks everything 0 or 1 or a single value\n",
    "base_hit = max(Counter(test_data_Y).values()) #Devolve a quantidade do maior elemento\n",
    "base_one = list(Y_labels).count(1)\n",
    "base_zero = list(Y_labels).count(0)\n",
    "hit_rate_base = 100.0 * base_hit / len(test_data_Y)\n",
    "print(\"Hit rate based on validation data: %f\" %hit_rate_base)"
   ]
  },
  {
   "cell_type": "code",
   "execution_count": 47,
   "metadata": {},
   "outputs": [
    {
     "name": "stdout",
     "output_type": "stream",
     "text": [
      "\n",
      "\n",
      "\n",
      "ExtraTreesClassifier(bootstrap=False, class_weight=None, criterion='gini',\n",
      "           max_depth=None, max_features='auto', max_leaf_nodes=None,\n",
      "           min_impurity_decrease=0.0, min_impurity_split=None,\n",
      "           min_samples_leaf=1, min_samples_split=2,\n",
      "           min_weight_fraction_leaf=0.0, n_estimators=100, n_jobs=None,\n",
      "           oob_score=False, random_state=None, verbose=0, warm_start=False)\n",
      "\n",
      "\n",
      "\n",
      "Better algorithm hit rate in the real world was: 0.9473684210526315% from 149 elements\n",
      "\n",
      "\n"
     ]
    }
   ],
   "source": [
    "maximum = max(results)\n",
    "winner = results[maximum]\n",
    "print('\\n\\n')\n",
    "print(winner)\n",
    "print('\\n\\n')\n",
    "winner.fit(train_data_X, train_data_Y)\n",
    "result = winner.predict(test_data_X)\n",
    "\n",
    "len_to_predict = len(train_data_Y)\n",
    "hit_rate = metrics.accuracy_score(test_data_Y, result)\n",
    "\n",
    "print(\"Better algorithm hit rate in the real world \" + \"was: \" \n",
    "      + str(hit_rate) + \"% \" + \"from \" + str(len_to_predict) + \" elements\\n\\n\")"
   ]
  },
  {
   "cell_type": "code",
   "execution_count": 48,
   "metadata": {},
   "outputs": [
    {
     "name": "stdout",
     "output_type": "stream",
     "text": [
      "                        film              name\n",
      "0                       Roma  Yalitza Aparicio\n",
      "1                   The Wife       Glenn Close\n",
      "2              The Favourite     Olivia Colman\n",
      "3             A Star Is Born         Lady Gaga\n",
      "4  Can You Ever Forgive Me?   Melissa McCarthy\n",
      "\n",
      "\n",
      "\n",
      "Best model predict:\n",
      "[0. 1. 1. 0. 0.]\n",
      "       film         name\n",
      "1  The Wife  Glenn Close\n"
     ]
    }
   ],
   "source": [
    "name_and_films = df_to_predict[['film', 'name']]\n",
    "print(name_and_films)\n",
    "print('\\n')\n",
    "winner.fit(train_data_X, train_data_Y)\n",
    "winner_result = winner.predict(X_to_predict)\n",
    "print('\\nBest model predict:')\n",
    "print(winner_result)\n",
    "print(name_and_films.iloc[[winner_result.tolist().index(max(winner_result))]])"
   ]
  },
  {
   "cell_type": "code",
   "execution_count": 49,
   "metadata": {},
   "outputs": [
    {
     "name": "stdout",
     "output_type": "stream",
     "text": [
      "\n",
      "Without accuracy validation:\n",
      "[2, 7, 10, 2, 1]\n",
      "            film           name\n",
      "2  The Favourite  Olivia Colman\n",
      "\n",
      "\n",
      "\n",
      "Only if accuracy > 89%:\n",
      "[0, 5, 6, 0, 0]\n",
      "            film           name\n",
      "2  The Favourite  Olivia Colman\n"
     ]
    }
   ],
   "source": [
    "print('\\nWithout accuracy validation:')\n",
    "print(candidate0)\n",
    "print(name_and_films.iloc[[candidate0.index(max(candidate0))]])\n",
    "print(\"\\n\")\n",
    "print('\\nOnly if accuracy > 89%:')\n",
    "print(candidate)\n",
    "print(name_and_films.iloc[[candidate.index(max(candidate))]])"
   ]
  },
  {
   "cell_type": "code",
   "execution_count": null,
   "metadata": {},
   "outputs": [],
   "source": []
  },
  {
   "cell_type": "code",
   "execution_count": null,
   "metadata": {},
   "outputs": [],
   "source": []
  },
  {
   "cell_type": "code",
   "execution_count": null,
   "metadata": {},
   "outputs": [],
   "source": []
  }
 ],
 "metadata": {
  "kernelspec": {
   "display_name": "Python 3",
   "language": "python",
   "name": "python3"
  },
  "language_info": {
   "codemirror_mode": {
    "name": "ipython",
    "version": 3
   },
   "file_extension": ".py",
   "mimetype": "text/x-python",
   "name": "python",
   "nbconvert_exporter": "python",
   "pygments_lexer": "ipython3",
   "version": "3.6.9"
  }
 },
 "nbformat": 4,
 "nbformat_minor": 2
}
